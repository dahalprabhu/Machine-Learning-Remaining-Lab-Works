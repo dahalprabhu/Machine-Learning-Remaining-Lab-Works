{
 "cells": [
  {
   "cell_type": "markdown",
   "metadata": {
    "id": "V4quBZFiGtuQ"
   },
   "source": [
    "# Assignment 6 : Neural Networks \n",
    "- Prabhu Dahal\n",
    "- Roll No : 57\n",
    "- Group : Computer Science"
   ]
  },
  {
   "cell_type": "code",
   "execution_count": 2,
   "metadata": {
    "id": "Wzaq-O1HGtub"
   },
   "outputs": [],
   "source": [
    "import numpy as np\n",
    "import matplotlib.pyplot as plt\n",
    "import neurolab as nl\n",
    "\n",
    "import sys\n",
    "import os\n",
    "import cv2"
   ]
  },
  {
   "cell_type": "code",
   "execution_count": 3,
   "metadata": {
    "id": "A-0KwfsOGtub"
   },
   "outputs": [],
   "source": [
    "from sklearn.linear_model import Perceptron,  LogisticRegression\n",
    "from sklearn.datasets import make_classification\n",
    "\n",
    "import pandas as pd\n",
    "from matplotlib.colors import ListedColormap\n",
    "\n",
    "from sklearn.neural_network import MLPClassifier, BernoulliRBM \n",
    "from sklearn.model_selection import train_test_split, \n",
    "from sklearn.preprocessing import StandardScaler\n",
    "\n",
    "from sklearn import metrics\n",
    "from sklearn.metrics import classification_report, confusion_matrix\n",
    "\n",
    "from sklearn.datasets import load_digits\n",
    "from sklearn import datasets\n",
    "from sklearn.pipeline import Pipeline\n",
    "\n",
    "from scipy.ndimage import convolve"
   ]
  },
  {
   "cell_type": "code",
   "execution_count": 4,
   "metadata": {
    "id": "lauC6D2ZGtuc"
   },
   "outputs": [],
   "source": [
    "from keras.models import Sequential, Model\n",
    "from keras.datasets import  imdb\n",
    "from keras.layers import Dense, Activation, Dropout, Input, Convolution2D, MaxPooling2D, Flatten, Embedding, LSTM\n",
    "\n",
    "from keras.preprocessing import sequence\n",
    "\n",
    "from keras.optimizers import Adadelta\n",
    "\n",
    "from keras import backend as K\n",
    "from keras.callbacks import EarlyStopping\n"
   ]
  },
  {
   "cell_type": "markdown",
   "metadata": {
    "id": "btlLCtC9Gtud"
   },
   "source": [
    "## Chapter 14 – Artificial Intelligence with Python"
   ]
  },
  {
   "cell_type": "code",
   "execution_count": 12,
   "metadata": {
    "id": "A1baXMDaGtuf",
    "outputId": "98144d19-5c16-44b9-d59f-df62a2c7d463"
   },
   "outputs": [
    {
     "data": {
      "text/plain": [
       "array([[0.38, 0.19, 0.  ],\n",
       "       [0.17, 0.31, 0.  ],\n",
       "       [0.29, 0.54, 0.  ],\n",
       "       [0.89, 0.55, 1.  ],\n",
       "       [0.78, 0.36, 1.  ]])"
      ]
     },
     "execution_count": 12,
     "metadata": {},
     "output_type": "execute_result"
    }
   ],
   "source": [
    "# Load input data\n",
    "text = np.loadtxt('./data/perceptron.txt')\n",
    "text"
   ]
  },
  {
   "cell_type": "code",
   "execution_count": 13,
   "metadata": {
    "id": "6HJU7bm_Gtuf"
   },
   "outputs": [],
   "source": [
    "# Separate datapoints and labels\n",
    "data = text[:, :2]\n",
    "labels  = text[:, 2].reshape((text.shape[0], 1))"
   ]
  },
  {
   "cell_type": "code",
   "execution_count": 14,
   "metadata": {
    "id": "24RQDL3sGtug",
    "outputId": "eeb0313b-e497-47cf-b91f-044f8bcc41b0"
   },
   "outputs": [
    {
     "data": {
      "image/png": "[encoded data removed]",
      "text/plain": [
       "<Figure size 432x288 with 1 Axes>"
      ]
     },
     "metadata": {
      "needs_background": "light"
     },
     "output_type": "display_data"
    }
   ],
   "source": [
    "# Plot the input data\n",
    "plt.figure()\n",
    "plt.scatter(data[:,0], data[:, 1])\n",
    "plt.xlabel(\"Dimension 1\")\n",
    "plt.ylabel(\"Dimension 2\")\n",
    "plt.title(\"Input data\")\n",
    "plt.show()"
   ]
  },
  {
   "cell_type": "code",
   "execution_count": 15,
   "metadata": {
    "id": "Giqbou_QGtuh"
   },
   "outputs": [],
   "source": [
    "# Define minimum and maximum values for each dimension\n",
    "dim1_min, dim1_max, dim2_min, dim2_max = 0, 1, 0, 1"
   ]
  },
  {
   "cell_type": "code",
   "execution_count": 16,
   "metadata": {
    "id": "QhhKCbuGGtuh",
    "outputId": "469e5c16-1ad6-419f-9c17-c55e8adf172c"
   },
   "outputs": [
    {
     "data": {
      "text/plain": [
       "1"
      ]
     },
     "execution_count": 16,
     "metadata": {},
     "output_type": "execute_result"
    }
   ],
   "source": [
    "# Number of neurons in the output layer\n",
    "num_output = labels.shape[1]\n",
    "num_output"
   ]
  },
  {
   "cell_type": "code",
   "execution_count": 17,
   "metadata": {
    "id": "uY9tpiNdGtui"
   },
   "outputs": [],
   "source": [
    "# Define a perceptron with 2 input neurons (because we\n",
    "# have 2 dimensions in the input data)\n",
    "dim1 = [dim1_min, dim1_max]\n",
    "dim2 = [dim2_min, dim2_max]\n",
    "perceptron = nl.net.newp([dim1, dim2], num_output)"
   ]
  },
  {
   "cell_type": "code",
   "execution_count": 18,
   "metadata": {
    "id": "ZuBlw3VmGtui",
    "outputId": "479a8e76-1c6f-46f2-a425-b7768bca807c"
   },
   "outputs": [
    {
     "name": "stdout",
     "output_type": "stream",
     "text": [
      "The goal of learning is reached\n"
     ]
    }
   ],
   "source": [
    "# Train the perceptron using the data\n",
    "error_progress = perceptron.train(data, labels, epochs=100, show=20,\n",
    "lr=0.03)"
   ]
  },
  {
   "cell_type": "code",
   "execution_count": 19,
   "metadata": {
    "id": "AX_uxLZOGtui",
    "outputId": "a3abf8f7-e4a8-4449-e898-3010d9bc58f5"
   },
   "outputs": [
    {
     "data": {
      "image/png": "[encoded data removed]",
      "text/plain": [
       "<Figure size 432x288 with 1 Axes>"
      ]
     },
     "metadata": {
      "needs_background": "light"
     },
     "output_type": "display_data"
    }
   ],
   "source": [
    "# Plot the training progress\n",
    "plt.figure()\n",
    "plt.plot(error_progress)\n",
    "plt.xlabel('Number of epochs')\n",
    "plt.ylabel('Training error')\n",
    "plt.title('Training error progress')\n",
    "plt.grid()\n",
    "plt.show()"
   ]
  },
  {
   "cell_type": "code",
   "execution_count": 20,
   "metadata": {
    "id": "_0lYKPI3Gtuj",
    "outputId": "2d4df7ff-c81f-45a7-c3e8-c892103246d2"
   },
   "outputs": [
    {
     "data": {
      "text/plain": [
       "(16, 4)"
      ]
     },
     "execution_count": 20,
     "metadata": {},
     "output_type": "execute_result"
    }
   ],
   "source": [
    "# Load input data\n",
    "text = np.loadtxt('data/data_simple_nn.txt')\n",
    "text.shape"
   ]
  },
  {
   "cell_type": "code",
   "execution_count": 21,
   "metadata": {
    "id": "ubdozU9jGtuj"
   },
   "outputs": [],
   "source": [
    "# Separate it into datapoints and labels\n",
    "data = text[:, 0:2]\n",
    "labels = text[:, 2:]"
   ]
  },
  {
   "cell_type": "code",
   "execution_count": 22,
   "metadata": {
    "id": "cNsM05cPGtuj",
    "outputId": "71fedd1c-81f1-4509-f624-5a60989e8ebf"
   },
   "outputs": [
    {
     "data": {
      "image/png": "[encoded data removed]",
      "text/plain": [
       "<Figure size 432x288 with 1 Axes>"
      ]
     },
     "metadata": {
      "needs_background": "light"
     },
     "output_type": "display_data"
    }
   ],
   "source": [
    "# Plot input data\n",
    "plt.figure()\n",
    "plt.scatter(data[:,0], data[:,1])\n",
    "plt.xlabel('Dimension 1')\n",
    "plt.ylabel('Dimension 2')\n",
    "plt.title('Input data')\n",
    "plt.show()"
   ]
  },
  {
   "cell_type": "code",
   "execution_count": 23,
   "metadata": {
    "id": "TjyWfAQ7Gtuk"
   },
   "outputs": [],
   "source": [
    "# Minimum and maximum values for each dimension\n",
    "dim1_min, dim1_max = data[:,0].min(), data[:,0].max()\n",
    "dim2_min, dim2_max = data[:,1].min(), data[:,1].max()"
   ]
  },
  {
   "cell_type": "code",
   "execution_count": 24,
   "metadata": {
    "id": "8AiOf5jPGtuk",
    "outputId": "0089f173-bfb6-4e14-e5db-6245bd18cb3a"
   },
   "outputs": [
    {
     "data": {
      "text/plain": [
       "2"
      ]
     },
     "execution_count": 24,
     "metadata": {},
     "output_type": "execute_result"
    }
   ],
   "source": [
    "# Define the number of neurons in the output layer\n",
    "num_output = labels.shape[1]\n",
    "num_output"
   ]
  },
  {
   "cell_type": "code",
   "execution_count": 25,
   "metadata": {
    "id": "aXwu2uXGGtuk"
   },
   "outputs": [],
   "source": [
    "# Define a single-layer neural network\n",
    "dim1 = [dim1_min, dim1_max]\n",
    "dim2 = [dim2_min, dim2_max]\n",
    "nn = nl.net.newp([dim1, dim2], num_output)"
   ]
  },
  {
   "cell_type": "code",
   "execution_count": 26,
   "metadata": {
    "id": "5l6WDm3FGtul",
    "outputId": "d07ae070-dc98-4c16-df42-36fbdec77382"
   },
   "outputs": [
    {
     "name": "stdout",
     "output_type": "stream",
     "text": [
      "Epoch: 20; Error: 4.0;\n",
      "Epoch: 40; Error: 4.0;\n",
      "Epoch: 60; Error: 4.0;\n",
      "Epoch: 80; Error: 4.0;\n",
      "Epoch: 100; Error: 4.0;\n",
      "The maximum number of train epochs is reached\n"
     ]
    }
   ],
   "source": [
    "# Train the neural network\n",
    "error_progress = nn.train(data, labels, epochs=100, show=20, lr=0.03)"
   ]
  },
  {
   "cell_type": "code",
   "execution_count": 27,
   "metadata": {
    "id": "xerHAbl_Gtul",
    "outputId": "a1cf2429-ad3f-498e-b44c-5d2e8a09b9a9"
   },
   "outputs": [
    {
     "data": {
      "image/png": "[encoded data removed]",
      "text/plain": [
       "<Figure size 432x288 with 1 Axes>"
      ]
     },
     "metadata": {
      "needs_background": "light"
     },
     "output_type": "display_data"
    }
   ],
   "source": [
    "# Plot the training progress\n",
    "plt.figure()\n",
    "plt.plot(error_progress)\n",
    "plt.xlabel('Number of epochs')\n",
    "plt.ylabel('Training error')\n",
    "plt.title('Training error progress')\n",
    "plt.grid()\n",
    "plt.show()"
   ]
  },
  {
   "cell_type": "code",
   "execution_count": 28,
   "metadata": {
    "id": "Svlu1hB8Gtul",
    "outputId": "e2490bc8-9352-491e-9e5f-7fdb0b34272a"
   },
   "outputs": [
    {
     "name": "stdout",
     "output_type": "stream",
     "text": [
      "\n",
      "Test results:\n",
      "[0.4, 4.3] --> [0. 0.]\n",
      "[4.4, 0.6] --> [1. 0.]\n",
      "[4.7, 8.1] --> [1. 1.]\n"
     ]
    }
   ],
   "source": [
    "# Run the classifier on test datapoints\n",
    "print('\\nTest results:')\n",
    "data_test = [[0.4, 4.3], [4.4, 0.6], [4.7, 8.1]]\n",
    "for item in data_test:\n",
    "    print(item, '-->', nn.sim([item])[0])\n"
   ]
  },
  {
   "cell_type": "code",
   "execution_count": 29,
   "metadata": {
    "id": "dGZgPafAGtun"
   },
   "outputs": [],
   "source": [
    "# Generate some training data\n",
    "min_val = -15\n",
    "max_val = 15\n",
    "num_points = 130\n",
    "x = np.linspace(min_val, max_val, num_points)\n",
    "y = 3 * np.square(x) + 5\n",
    "y /= np.linalg.norm(y)"
   ]
  },
  {
   "cell_type": "code",
   "execution_count": 30,
   "metadata": {
    "id": "MVja_Uu9Gtun"
   },
   "outputs": [],
   "source": [
    "# Create data and labels\n",
    "data = x.reshape(num_points, 1)\n",
    "labels = y.reshape(num_points, 1)"
   ]
  },
  {
   "cell_type": "code",
   "execution_count": 31,
   "metadata": {
    "id": "weBW4nBxGtun",
    "outputId": "0a983461-f9d9-494c-cc4e-78f64350cdca"
   },
   "outputs": [
    {
     "data": {
      "image/png": "[encoded data removed]",
      "text/plain": [
       "<Figure size 432x288 with 1 Axes>"
      ]
     },
     "metadata": {
      "needs_background": "light"
     },
     "output_type": "display_data"
    }
   ],
   "source": [
    "# Plot input data\n",
    "plt.figure()\n",
    "plt.scatter(data, labels)\n",
    "plt.xlabel('Dimension 1')\n",
    "plt.ylabel('Dimension 2')\n",
    "plt.title('Input data')\n",
    "plt.show()"
   ]
  },
  {
   "cell_type": "code",
   "execution_count": 32,
   "metadata": {
    "id": "0mYVbf0_Gtun"
   },
   "outputs": [],
   "source": [
    "nn = nl.net.newff([[min_val, max_val]], [10, 6, 1])"
   ]
  },
  {
   "cell_type": "code",
   "execution_count": 33,
   "metadata": {
    "id": "H4Mr8nPVGtun"
   },
   "outputs": [],
   "source": [
    "# Set the training algorithm to gradient descent\n",
    "nn.trainf = nl.train.train_gd"
   ]
  },
  {
   "cell_type": "code",
   "execution_count": 34,
   "metadata": {
    "id": "v9vngHMkGtuo",
    "outputId": "60e3fbd4-2f84-4051-9a1d-d7571251d7c6"
   },
   "outputs": [
    {
     "name": "stdout",
     "output_type": "stream",
     "text": [
      "Epoch: 100; Error: 2.396991992139816;\n",
      "Epoch: 200; Error: 0.37651455392125976;\n",
      "Epoch: 300; Error: 0.08312526858775242;\n",
      "Epoch: 400; Error: 0.4321813615912785;\n",
      "Epoch: 500; Error: 0.3808406373092963;\n",
      "Epoch: 600; Error: 0.10554694472310483;\n",
      "Epoch: 700; Error: 0.21287285006959608;\n",
      "Epoch: 800; Error: 0.3059823656074158;\n",
      "Epoch: 900; Error: 0.22714652110369665;\n",
      "Epoch: 1000; Error: 0.21157397299101702;\n",
      "Epoch: 1100; Error: 0.2733775881240893;\n",
      "Epoch: 1200; Error: 0.23593630705192814;\n",
      "Epoch: 1300; Error: 0.22613194299373307;\n",
      "Epoch: 1400; Error: 0.1540707605281689;\n",
      "Epoch: 1500; Error: 0.14259621943759726;\n",
      "Epoch: 1600; Error: 0.06285784593192345;\n",
      "Epoch: 1700; Error: 0.14336028778146517;\n",
      "Epoch: 1800; Error: 0.10360927879333588;\n",
      "Epoch: 1900; Error: 0.10668980430875974;\n",
      "Epoch: 2000; Error: 0.09667507257234695;\n",
      "The maximum number of train epochs is reached\n"
     ]
    }
   ],
   "source": [
    "# Train the neural network\n",
    "error_progress = nn.train(data, labels, epochs=2000, show=100, goal=0.01)"
   ]
  },
  {
   "cell_type": "code",
   "execution_count": 35,
   "metadata": {
    "id": "Cc5MqWbqGtuo"
   },
   "outputs": [],
   "source": [
    "# Run the neural network on training datapoints\n",
    "output = nn.sim(data)\n",
    "y_pred = output.reshape(num_points)\n"
   ]
  },
  {
   "cell_type": "code",
   "execution_count": 36,
   "metadata": {
    "id": "3_7Bbx3tGtuo",
    "outputId": "7af13479-8bfb-44eb-9387-d3efe250d68b"
   },
   "outputs": [
    {
     "data": {
      "image/png": "[encoded data removed]",
      "text/plain": [
       "<Figure size 432x288 with 1 Axes>"
      ]
     },
     "metadata": {
      "needs_background": "light"
     },
     "output_type": "display_data"
    }
   ],
   "source": [
    "# Plot training error\n",
    "plt.figure()\n",
    "plt.plot(error_progress)\n",
    "plt.xlabel('Number of epochs')\n",
    "plt.ylabel('Error')\n",
    "plt.title('Training error progress')\n",
    "plt.show()"
   ]
  },
  {
   "cell_type": "code",
   "execution_count": 37,
   "metadata": {
    "id": "QC6OjwCrGtuo",
    "outputId": "7e13626e-e4c1-471d-aac9-80bd04127643"
   },
   "outputs": [
    {
     "data": {
      "image/png": "[encoded data removed]",
      "text/plain": [
       "<Figure size 432x288 with 1 Axes>"
      ]
     },
     "metadata": {
      "needs_background": "light"
     },
     "output_type": "display_data"
    }
   ],
   "source": [
    "# Plot the output\n",
    "x_dense = np.linspace(min_val, max_val, num_points * 2)\n",
    "y_dense_pred = nn.sim(x_dense.reshape(x_dense.size,1)).reshape(x_dense.size)\n",
    "plt.figure()\n",
    "plt.plot(x_dense, y_dense_pred, '-', x, y, '.', x, y_pred, 'p')\n",
    "plt.title('Actual vs predicted')\n",
    "plt.show()"
   ]
  },
  {
   "cell_type": "code",
   "execution_count": 38,
   "metadata": {
    "id": "JeRLdJULGtup",
    "outputId": "15df31e7-b3f4-407b-b0c7-2a030e8dd86b"
   },
   "outputs": [
    {
     "data": {
      "text/plain": [
       "(16, 6)"
      ]
     },
     "execution_count": 38,
     "metadata": {},
     "output_type": "execute_result"
    }
   ],
   "source": [
    "# Load input data\n",
    "text = np.loadtxt('./data/data_vector_quantization.txt')\n",
    "text.shape"
   ]
  },
  {
   "cell_type": "code",
   "execution_count": 39,
   "metadata": {
    "id": "7Hm30nfZGtup"
   },
   "outputs": [],
   "source": [
    "# Separate it into data and labels\n",
    "data = text[:, 0:2]\n",
    "labels = text[:, 2:]"
   ]
  },
  {
   "cell_type": "code",
   "execution_count": 40,
   "metadata": {
    "id": "49QvhrmBGtup"
   },
   "outputs": [],
   "source": [
    "# Define a neural network with 2 layers:\n",
    "# 10 neurons in input layer and 4 neurons in output layer\n",
    "num_input_neurons = 10\n",
    "num_output_neurons = 4\n",
    "weights = [1/num_output_neurons] * num_output_neurons\n",
    "nn = nl.net.newlvq(nl.tool.minmax(data), num_input_neurons, weights)"
   ]
  },
  {
   "cell_type": "code",
   "execution_count": 41,
   "metadata": {
    "id": "92pW5jEiGtup",
    "outputId": "ba294cf7-0e39-4e25-bc90-5eae77ed7b7e"
   },
   "outputs": [
    {
     "name": "stdout",
     "output_type": "stream",
     "text": [
      "Epoch: 100; Error: 0.0;\n",
      "Epoch: 200; Error: 0.0;\n",
      "Epoch: 300; Error: 0.0;\n",
      "Epoch: 400; Error: 0.0;\n",
      "Epoch: 500; Error: 0.0;\n",
      "The maximum number of train epochs is reached\n"
     ]
    }
   ],
   "source": [
    "# Train the neural network\n",
    "_ = nn.train(data, labels, epochs=500, goal=-1)"
   ]
  },
  {
   "cell_type": "code",
   "execution_count": 42,
   "metadata": {
    "id": "s8KDe2B0Gtuq"
   },
   "outputs": [],
   "source": [
    "# Create the input grid\n",
    "xx, yy = np.meshgrid(np.arange(0, 10, 0.2), np.arange(0, 10, 0.2))\n",
    "xx.shape = xx.size, 1\n",
    "yy.shape = yy.size, 1\n",
    "grid_xy = np.concatenate((xx, yy), axis=1)"
   ]
  },
  {
   "cell_type": "code",
   "execution_count": 43,
   "metadata": {
    "id": "cB9P8sntGtuq"
   },
   "outputs": [],
   "source": [
    "# Evaluate the input grid of points\n",
    "grid_eval = nn.sim(grid_xy)"
   ]
  },
  {
   "cell_type": "code",
   "execution_count": 44,
   "metadata": {
    "id": "A-j7_n6mGtuq"
   },
   "outputs": [],
   "source": [
    "# Define the 4 classes\n",
    "class_1 = data[labels[:,0] == 1]\n",
    "class_2 = data[labels[:,1] == 1]\n",
    "class_3 = data[labels[:,2] == 1]\n",
    "class_4 = data[labels[:,3] == 1]"
   ]
  },
  {
   "cell_type": "code",
   "execution_count": 45,
   "metadata": {
    "id": "3LwX7DRcGtuq"
   },
   "outputs": [],
   "source": [
    "# Define X-Y grids for all the 4 classes\n",
    "grid_1 = grid_xy[grid_eval[:,0] == 1]\n",
    "grid_2 = grid_xy[grid_eval[:,1] == 1]\n",
    "grid_3 = grid_xy[grid_eval[:,2] == 1]\n",
    "grid_4 = grid_xy[grid_eval[:,3] == 1]\n"
   ]
  },
  {
   "cell_type": "code",
   "execution_count": 46,
   "metadata": {
    "id": "vDST2aKKGtuq",
    "outputId": "f317f1e4-21f0-4137-f873-33b54550d9e0"
   },
   "outputs": [
    {
     "data": {
      "image/png": "[encoded data removed]",
      "text/plain": [
       "<Figure size 432x288 with 1 Axes>"
      ]
     },
     "metadata": {
      "needs_background": "light"
     },
     "output_type": "display_data"
    }
   ],
   "source": [
    "# Plot the outputs\n",
    "plt.plot(class_1[:,0], class_1[:,1], 'ko',\n",
    "         class_2[:,0], class_2[:,1], 'ko',\n",
    "         class_3[:,0], class_3[:,1], 'ko',\n",
    "         class_4[:,0], class_4[:,1], 'ko')\n",
    "\n",
    "plt.plot(grid_1[:,0], grid_1[:,1], 'm.', \n",
    "         grid_2[:,0], grid_2[:,1], 'bx', \n",
    "         grid_3[:,0], grid_3[:,1], 'c^',\n",
    "         grid_4[:,0], grid_4[:,1], 'y+')\n",
    "\n",
    "plt.axis([0, 10, 0, 10])\n",
    "plt.xlabel('Dimension 1')\n",
    "plt.ylabel('Dimension 2')\n",
    "plt.title('Vector quantization')\n",
    "plt.show()\n"
   ]
  },
  {
   "cell_type": "code",
   "execution_count": 47,
   "metadata": {
    "id": "vdaM0nHVGtur"
   },
   "outputs": [],
   "source": [
    "def get_data(num_points):\n",
    "    # Create sine waveforms\n",
    "    wave_1 = 0.5 * np.sin(np.arange(0, num_points))\n",
    "    wave_2 = 3.6 * np.sin(np.arange(0, num_points))\n",
    "    wave_3 = 1.1 * np.sin(np.arange(0, num_points))\n",
    "    wave_4 = 4.7 * np.sin(np.arange(0, num_points))\n",
    "\n",
    "    # Create varying amplitudes\n",
    "    amp_1 = np.ones(num_points)\n",
    "    amp_2 = 2.1 + np.zeros(num_points) \n",
    "    amp_3 = 3.2 * np.ones(num_points) \n",
    "    amp_4 = 0.8 + np.zeros(num_points) \n",
    "\n",
    "    wave = np.array([wave_1, wave_2, wave_3, wave_4]).reshape(num_points * 4, 1)\n",
    "    amp = np.array([[amp_1, amp_2, amp_3, amp_4]]).reshape(num_points * 4, 1)\n",
    "\n",
    "    return wave, amp "
   ]
  },
  {
   "cell_type": "code",
   "execution_count": 48,
   "metadata": {
    "id": "12CQ_i2CGtur"
   },
   "outputs": [],
   "source": [
    "# Visualize the output\n",
    "def visualize_output(nn, num_points_test):\n",
    "    wave, amp = get_data(num_points_test)\n",
    "    output = nn.sim(wave)\n",
    "    plt.plot(amp.reshape(num_points_test * 4))\n",
    "    plt.plot(output.reshape(num_points_test * 4))\n"
   ]
  },
  {
   "cell_type": "code",
   "execution_count": 49,
   "metadata": {
    "id": "pNttRwbKGtur"
   },
   "outputs": [],
   "source": [
    "# Create some sample data\n",
    "num_points = 40\n",
    "wave, amp = get_data(num_points)"
   ]
  },
  {
   "cell_type": "code",
   "execution_count": 50,
   "metadata": {
    "id": "SWQZNvBAGtur"
   },
   "outputs": [],
   "source": [
    "# Create a recurrent neural network with 2 layers\n",
    "nn = nl.net.newelm([[-2, 2]], [10, 1], \n",
    "                   [nl.trans.TanSig(), nl.trans.PureLin()])"
   ]
  },
  {
   "cell_type": "code",
   "execution_count": 51,
   "metadata": {
    "id": "MJKNL0f8Gtur"
   },
   "outputs": [],
   "source": [
    "# Set the init functions for each layer\n",
    "nn.layers[0].initf = nl.init.InitRand([-0.1, 0.1], 'wb')\n",
    "nn.layers[1].initf = nl.init.InitRand([-0.1, 0.1], 'wb')\n",
    "nn.init()"
   ]
  },
  {
   "cell_type": "code",
   "execution_count": 52,
   "metadata": {
    "id": "bdmwX3wyGtus",
    "outputId": "b4601e0b-4434-4b4e-d70f-2843fbe71af3"
   },
   "outputs": [
    {
     "name": "stdout",
     "output_type": "stream",
     "text": [
      "Epoch: 100; Error: 0.8576891604191482;\n",
      "Epoch: 200; Error: 0.7516492574172484;\n",
      "Epoch: 300; Error: 0.5622487990532811;\n",
      "Epoch: 400; Error: 0.6240195244591078;\n",
      "Epoch: 500; Error: 0.5847269356291012;\n",
      "Epoch: 600; Error: 0.13897916030689303;\n",
      "Epoch: 700; Error: 0.05504550729554145;\n",
      "Epoch: 800; Error: 0.07717442666999302;\n",
      "Epoch: 900; Error: 0.03978123687821279;\n",
      "Epoch: 1000; Error: 0.037353841813498705;\n",
      "Epoch: 1100; Error: 0.039689839111357005;\n",
      "Epoch: 1200; Error: 0.04821397732935252;\n",
      "The maximum number of train epochs is reached\n"
     ]
    }
   ],
   "source": [
    "# Train the recurrent neural network\n",
    "error_progress = nn.train(wave, amp, epochs=1200, show=100, goal=0.01)"
   ]
  },
  {
   "cell_type": "code",
   "execution_count": 53,
   "metadata": {
    "id": "kmNQvogOGtus"
   },
   "outputs": [],
   "source": [
    "# Run the training data through the network\n",
    "output = nn.sim(wave)"
   ]
  },
  {
   "cell_type": "code",
   "execution_count": 54,
   "metadata": {
    "id": "AcwWUnZWGtus",
    "outputId": "2f9d3e4d-fa99-432c-aa36-6736dcf5ea14"
   },
   "outputs": [
    {
     "data": {
      "text/plain": [
       "<matplotlib.legend.Legend at 0x7f1848bfb910>"
      ]
     },
     "execution_count": 54,
     "metadata": {},
     "output_type": "execute_result"
    },
    {
     "data": {
      "image/png": "[encoded data removed]",
      "text/plain": [
       "<Figure size 432x288 with 2 Axes>"
      ]
     },
     "metadata": {
      "needs_background": "light"
     },
     "output_type": "display_data"
    }
   ],
   "source": [
    "# Plot the results\n",
    "plt.subplot(211)\n",
    "plt.plot(error_progress)\n",
    "plt.xlabel('Number of epochs')\n",
    "plt.ylabel('Error (MSE)')\n",
    "plt.subplot(212)\n",
    "plt.plot(amp.reshape(num_points * 4))\n",
    "plt.plot(output.reshape(num_points * 4))\n",
    "plt.legend(['Original', 'Predicted'])"
   ]
  },
  {
   "cell_type": "code",
   "execution_count": 55,
   "metadata": {
    "id": "CWYlDb-9Gtus",
    "outputId": "2ac78bd4-f8f5-434c-b76b-336e6eccb591"
   },
   "outputs": [
    {
     "data": {
      "image/png": "[encoded data removed]",
      "text/plain": [
       "<Figure size 432x288 with 2 Axes>"
      ]
     },
     "metadata": {
      "needs_background": "light"
     },
     "output_type": "display_data"
    }
   ],
   "source": [
    "# Testing the network performance on unknown data \n",
    "plt.figure()\n",
    "\n",
    "plt.subplot(211)\n",
    "visualize_output(nn, 82)\n",
    "plt.xlim([0, 300])\n",
    "\n",
    "plt.subplot(212)\n",
    "visualize_output(nn, 49)\n",
    "plt.xlim([0, 300])\n",
    "\n",
    "plt.show()"
   ]
  },
  {
   "cell_type": "code",
   "execution_count": 56,
   "metadata": {
    "id": "NHqeYW3GGtut"
   },
   "outputs": [],
   "source": [
    "# Define the input file \n",
    "input_file = './data/letter.data' "
   ]
  },
  {
   "cell_type": "code",
   "execution_count": 57,
   "metadata": {
    "id": "WaoGZLccGtut"
   },
   "outputs": [],
   "source": [
    "# Define the visualization parameters \n",
    "img_resize_factor = 12\n",
    "start = 6\n",
    "end = -1\n",
    "height, width = 16, 8"
   ]
  },
  {
   "cell_type": "code",
   "execution_count": 58,
   "metadata": {
    "id": "NhfWuv3ZGtut"
   },
   "outputs": [],
   "source": [
    "# Iterate until the user presses the Esc key\n",
    "with open(input_file, 'r') as f:\n",
    "    for line in f.readlines():\n",
    "        # Read the data\n",
    "        data = np.array([255 * float(x) for x in line.split('\\t')[start:end]])\n",
    "\n",
    "        # Reshape the data into a 2D image\n",
    "        img = np.reshape(data, (height, width))\n",
    "\n",
    "        # Scale the image\n",
    "        img_scaled = cv2.resize(img, None, fx=img_resize_factor, fy=img_resize_factor)\n",
    "\n",
    "        # Display the image\n",
    "        cv2.imshow('Image', img_scaled)\n",
    "\n",
    "        # Check if the user pressed the Esc key\n",
    "        c = cv2.waitKey()\n",
    "        if c == 27:\n",
    "            break\n",
    "            \n",
    "cv2.destroyAllWindows()"
   ]
  },
  {
   "cell_type": "code",
   "execution_count": 59,
   "metadata": {
    "id": "Z3x_gllpGtut"
   },
   "outputs": [],
   "source": [
    "# Define the input file \n",
    "input_file = './data/letter.data' "
   ]
  },
  {
   "cell_type": "code",
   "execution_count": 60,
   "metadata": {
    "id": "YwdKXJ5MGtut"
   },
   "outputs": [],
   "source": [
    "# Define the number of datapoints to \n",
    "# be loaded from the input file\n",
    "num_datapoints = 50"
   ]
  },
  {
   "cell_type": "code",
   "execution_count": 61,
   "metadata": {
    "id": "wb7RFE_BGtuu"
   },
   "outputs": [],
   "source": [
    "# String containing all the distinct characters\n",
    "orig_labels = 'omandig'"
   ]
  },
  {
   "cell_type": "code",
   "execution_count": 62,
   "metadata": {
    "id": "QDotXT8zGtuv"
   },
   "outputs": [],
   "source": [
    "# Compute the number of distinct characters\n",
    "num_orig_labels = len(orig_labels)"
   ]
  },
  {
   "cell_type": "code",
   "execution_count": 63,
   "metadata": {
    "id": "GQ3MxRUKGtuv"
   },
   "outputs": [],
   "source": [
    "# Define the training and testing parameters\n",
    "num_train = int(0.9 * num_datapoints)\n",
    "num_test = num_datapoints - num_train"
   ]
  },
  {
   "cell_type": "code",
   "execution_count": 64,
   "metadata": {
    "id": "-xn738QSGtuv"
   },
   "outputs": [],
   "source": [
    "# Define the dataset extraction parameters \n",
    "start = 6\n",
    "end = -1"
   ]
  },
  {
   "cell_type": "code",
   "execution_count": 65,
   "metadata": {
    "id": "FFyY5DkRGtuv"
   },
   "outputs": [],
   "source": [
    "# Creating the dataset\n",
    "data = []\n",
    "labels = []\n",
    "with open(input_file, 'r') as f:\n",
    "    for line in f.readlines():\n",
    "        # Split the current line tabwise\n",
    "        list_vals = line.split('\\t')\n",
    "\n",
    "        # Check if the label is in our ground truth \n",
    "        # labels. If not, we should skip it.\n",
    "        if list_vals[1] not in orig_labels:\n",
    "            continue\n",
    "\n",
    "        # Extract the current label and append it \n",
    "        # to the main list\n",
    "        label = np.zeros((num_orig_labels, 1))\n",
    "        label[orig_labels.index(list_vals[1])] = 1\n",
    "        labels.append(label)\n",
    "\n",
    "        # Extract the character vector and append it to the main list\n",
    "        cur_char = np.array([float(x) for x in list_vals[start:end]])\n",
    "        data.append(cur_char)\n",
    "\n",
    "        # Exit the loop once the required dataset has been created \n",
    "        if len(data) >= num_datapoints:\n",
    "            break"
   ]
  },
  {
   "cell_type": "code",
   "execution_count": 66,
   "metadata": {
    "id": "H3ilBVxWGtuv"
   },
   "outputs": [],
   "source": [
    "# Convert the data and labels to numpy arrays\n",
    "data = np.asfarray(data)\n",
    "labels = np.array(labels).reshape(num_datapoints, num_orig_labels)"
   ]
  },
  {
   "cell_type": "code",
   "execution_count": 67,
   "metadata": {
    "id": "_QloOT21Gtuv"
   },
   "outputs": [],
   "source": [
    "# Extract the number of dimensions\n",
    "num_dims = len(data[0])\n",
    "\n",
    "# Create a feedforward neural network\n",
    "nn = nl.net.newff([[0, 1] for _ in range(len(data[0]))], \n",
    "        [128, 16, num_orig_labels])\n",
    "\n",
    "# Set the training algorithm to gradient descent\n",
    "nn.trainf = nl.train.train_gd"
   ]
  },
  {
   "cell_type": "code",
   "execution_count": 68,
   "metadata": {
    "id": "D5pOEaJcGtuw",
    "outputId": "030e31fe-b8d5-4cd9-9334-c337f71c3a2e"
   },
   "outputs": [
    {
     "name": "stdout",
     "output_type": "stream",
     "text": [
      "Epoch: 100; Error: 98.10726343026009;\n",
      "Epoch: 200; Error: 45.366413161516434;\n",
      "Epoch: 300; Error: 40.15127174955086;\n",
      "Epoch: 400; Error: 46.304293201914085;\n",
      "Epoch: 500; Error: 43.7239188352686;\n",
      "Epoch: 600; Error: 42.346916337575976;\n",
      "Epoch: 700; Error: 32.40628430742824;\n",
      "Epoch: 800; Error: 34.576738404203624;\n",
      "Epoch: 900; Error: 34.34234959138504;\n",
      "Epoch: 1000; Error: 35.18129979197869;\n",
      "Epoch: 1100; Error: 35.102547978117656;\n",
      "Epoch: 1200; Error: 35.13299990243303;\n",
      "Epoch: 1300; Error: 33.63527025486289;\n",
      "Epoch: 1400; Error: 33.37009145961835;\n",
      "Epoch: 1500; Error: 33.82265022425051;\n",
      "Epoch: 1600; Error: 33.3673798822994;\n",
      "Epoch: 1700; Error: 33.7379926602068;\n",
      "Epoch: 1800; Error: 24.168722806271415;\n",
      "Epoch: 1900; Error: 23.772821807819746;\n",
      "Epoch: 2000; Error: 12.644992122010095;\n",
      "Epoch: 2100; Error: 12.156308522250507;\n",
      "Epoch: 2200; Error: 12.223184687337298;\n",
      "Epoch: 2300; Error: 12.0959151878219;\n",
      "Epoch: 2400; Error: 12.162177907065233;\n",
      "Epoch: 2500; Error: 12.124459380880737;\n",
      "Epoch: 2600; Error: 12.059992843536268;\n",
      "Epoch: 2700; Error: 12.15711054041513;\n",
      "Epoch: 2800; Error: 12.142685116924294;\n",
      "Epoch: 2900; Error: 12.012740447279368;\n",
      "Epoch: 3000; Error: 12.113062117201945;\n",
      "Epoch: 3100; Error: 12.041544638759854;\n",
      "Epoch: 3200; Error: 12.066596905281962;\n",
      "Epoch: 3300; Error: 12.022496958915998;\n",
      "Epoch: 3400; Error: 11.991193539725865;\n",
      "Epoch: 3500; Error: 11.988797530524067;\n",
      "Epoch: 3600; Error: 11.889509775820958;\n",
      "Epoch: 3700; Error: 11.945323751929392;\n",
      "Epoch: 3800; Error: 11.76519797593236;\n",
      "Epoch: 3900; Error: 11.643988222975947;\n",
      "Epoch: 4000; Error: 11.76969526254324;\n",
      "Epoch: 4100; Error: 11.75431983820356;\n",
      "Epoch: 4200; Error: 11.668650783734469;\n",
      "Epoch: 4300; Error: 11.645276614612357;\n",
      "Epoch: 4400; Error: 11.637812311003906;\n",
      "Epoch: 4500; Error: 11.643099725774459;\n",
      "Epoch: 4600; Error: 11.735279722059358;\n",
      "Epoch: 4700; Error: 11.689332954721397;\n",
      "Epoch: 4800; Error: 11.658401950357495;\n",
      "Epoch: 4900; Error: 11.65622925349085;\n",
      "Epoch: 5000; Error: 11.678252074180431;\n",
      "Epoch: 5100; Error: 11.791331486729455;\n",
      "Epoch: 5200; Error: 11.686787423535234;\n",
      "Epoch: 5300; Error: 11.650355205639272;\n",
      "Epoch: 5400; Error: 11.649129009294423;\n",
      "Epoch: 5500; Error: 11.694948305392398;\n",
      "Epoch: 5600; Error: 11.683830900741302;\n",
      "Epoch: 5700; Error: 11.63828698751571;\n",
      "Epoch: 5800; Error: 11.620380529300151;\n",
      "Epoch: 5900; Error: 11.606672540973456;\n",
      "Epoch: 6000; Error: 11.532656117648443;\n",
      "Epoch: 6100; Error: 11.39069334637998;\n",
      "Epoch: 6200; Error: 11.19504012837513;\n",
      "Epoch: 6300; Error: 11.349305538125442;\n",
      "Epoch: 6400; Error: 11.279551284948553;\n",
      "Epoch: 6500; Error: 11.14008825399555;\n",
      "Epoch: 6600; Error: 10.95816035600371;\n",
      "Epoch: 6700; Error: 10.846034290095291;\n",
      "Epoch: 6800; Error: 10.745472917435162;\n",
      "Epoch: 6900; Error: 10.6470150310799;\n",
      "Epoch: 7000; Error: 10.549526284951156;\n",
      "Epoch: 7100; Error: 10.454571749294196;\n",
      "Epoch: 7200; Error: 10.382392652342949;\n",
      "Epoch: 7300; Error: 11.620747307838087;\n",
      "Epoch: 7400; Error: 11.69850087677853;\n",
      "Epoch: 7500; Error: 11.659695306527048;\n",
      "Epoch: 7600; Error: 11.575126686738084;\n",
      "Epoch: 7700; Error: 11.569802896560702;\n",
      "Epoch: 7800; Error: 11.566668815886066;\n",
      "Epoch: 7900; Error: 11.565047210557763;\n",
      "Epoch: 8000; Error: 11.564883595250842;\n",
      "Epoch: 8100; Error: 11.566464244241988;\n",
      "Epoch: 8200; Error: 11.570667245350851;\n",
      "Epoch: 8300; Error: 11.57973217833056;\n",
      "Epoch: 8400; Error: 11.602500881591652;\n",
      "Epoch: 8500; Error: 11.665731826414547;\n",
      "Epoch: 8600; Error: 11.70247466268363;\n",
      "Epoch: 8700; Error: 11.709565087081481;\n",
      "Epoch: 8800; Error: 11.708824754382022;\n",
      "Epoch: 8900; Error: 11.706212893890797;\n",
      "Epoch: 9000; Error: 11.703158722839701;\n",
      "Epoch: 9100; Error: 11.699990623932646;\n",
      "Epoch: 9200; Error: 11.698872601173337;\n",
      "Epoch: 9300; Error: 12.003077362148748;\n",
      "Epoch: 9400; Error: 11.71197214627462;\n",
      "Epoch: 9500; Error: 11.284393282337973;\n",
      "Epoch: 9600; Error: 11.41946460173437;\n",
      "Epoch: 9700; Error: 11.381503047182939;\n",
      "Epoch: 9800; Error: 11.65226452842374;\n",
      "Epoch: 9900; Error: 11.616798123170604;\n",
      "Epoch: 10000; Error: 11.632660992472733;\n",
      "The maximum number of train epochs is reached\n"
     ]
    }
   ],
   "source": [
    "# Train the network\n",
    "error_progress = nn.train(data[:num_train,:], \n",
    "                          labels[:num_train,:], \n",
    "                          epochs=10000, \n",
    "                          show=100, \n",
    "                          goal=0.01)"
   ]
  },
  {
   "cell_type": "code",
   "execution_count": 69,
   "metadata": {
    "id": "b54fmgneGtuw",
    "outputId": "12d078dd-3df3-40af-c5bc-0835703cb0b3"
   },
   "outputs": [
    {
     "name": "stdout",
     "output_type": "stream",
     "text": [
      "\n",
      "Testing on unknown data:\n",
      "\n",
      "Original: o\n",
      "Predicted: o\n",
      "\n",
      "Original: m\n",
      "Predicted: n\n",
      "\n",
      "Original: m\n",
      "Predicted: n\n",
      "\n",
      "Original: a\n",
      "Predicted: a\n",
      "\n",
      "Original: n\n",
      "Predicted: n\n"
     ]
    }
   ],
   "source": [
    "# Predict the output for test inputs \n",
    "print('\\nTesting on unknown data:')\n",
    "predicted_test = nn.sim(data[num_train:, :])\n",
    "for i in range(num_test):\n",
    "    print('\\nOriginal:', orig_labels[np.argmax(labels[i])])\n",
    "    print('Predicted:', orig_labels[np.argmax(predicted_test[i])])"
   ]
  },
  {
   "cell_type": "markdown",
   "metadata": {
    "id": "g6Ri04HeGtuw"
   },
   "source": [
    "## Chapter 6 – Mastering Machine Learning with Python in Six Steps"
   ]
  },
  {
   "cell_type": "code",
   "execution_count": 71,
   "metadata": {
    "colab": {
     "base_uri": "https://localhost:8080/"
    },
    "id": "LqOzO5sQQM6E",
    "outputId": "02680cd2-4c3e-4967-f483-05e597ce1335"
   },
   "outputs": [
    {
     "name": "stdout",
     "output_type": "stream",
     "text": [
      "Loading data...\n",
      "WARNING:tensorflow:The `nb_words` argument in `load_data` has been renamed `num_words`.\n",
      "Downloading data from https://storage.googleapis.com/tensorflow/tf-keras-datasets/imdb.npz\n",
      "17465344/17464789 [==============================] - 0s 0us/step\n"
     ]
    },
    {
     "name": "stderr",
     "output_type": "stream",
     "text": [
      "<string>:6: VisibleDeprecationWarning: Creating an ndarray from ragged nested sequences (which is a list-or-tuple of lists-or-tuples-or ndarrays with different lengths or shapes) is deprecated. If you meant to do this, you must specify 'dtype=object' when creating the ndarray\n",
      "/usr/local/lib/python3.7/dist-packages/tensorflow/python/keras/datasets/imdb.py:159: VisibleDeprecationWarning: Creating an ndarray from ragged nested sequences (which is a list-or-tuple of lists-or-tuples-or ndarrays with different lengths or shapes) is deprecated. If you meant to do this, you must specify 'dtype=object' when creating the ndarray\n",
      "  x_train, y_train = np.array(xs[:idx]), np.array(labels[:idx])\n",
      "/usr/local/lib/python3.7/dist-packages/tensorflow/python/keras/datasets/imdb.py:160: VisibleDeprecationWarning: Creating an ndarray from ragged nested sequences (which is a list-or-tuple of lists-or-tuples-or ndarrays with different lengths or shapes) is deprecated. If you meant to do this, you must specify 'dtype=object' when creating the ndarray\n",
      "  x_test, y_test = np.array(xs[idx:]), np.array(labels[idx:])\n"
     ]
    },
    {
     "name": "stdout",
     "output_type": "stream",
     "text": [
      "25000 train sequences\n",
      "25000 test sequences\n",
      "Pad sequences (samples x time)\n",
      "X_train shape: (25000, 80)\n",
      "X_test shape: (25000, 80)\n"
     ]
    }
   ],
   "source": [
    "max_features = 20000\n",
    "maxlen = 80  # cut texts after this number of words (among top max_features most common words)\n",
    "batch_size = 32\n",
    "\n",
    "print('Loading data...')\n",
    "(X_train, y_train), (X_test, y_test) = imdb.load_data(nb_words=max_features)\n",
    "print(len(X_train), 'train sequences')\n",
    "print(len(X_test), 'test sequences')\n",
    "\n",
    "print('Pad sequences (samples x time)')\n",
    "X_train = sequence.pad_sequences(X_train, maxlen=maxlen)\n",
    "X_test = sequence.pad_sequences(X_test, maxlen=maxlen)\n",
    "print('X_train shape:', X_train.shape)\n",
    "print('X_test shape:', X_test.shape)"
   ]
  },
  {
   "cell_type": "code",
   "execution_count": 74,
   "metadata": {
    "id": "YyqmqmVFRppJ"
   },
   "outputs": [],
   "source": [
    "model = Sequential()\n",
    "model.add(Embedding(max_features, 128))\n",
    "model.add(LSTM(128, dropout=0.2))  # try using a GRU instead, for fun\n",
    "model.add(Dense(1))\n",
    "model.add(Activation('sigmoid'))\n",
    "\n",
    "# try using different optimizers and different optimizer configs\n",
    "model.compile(loss='binary_crossentropy', optimizer='adam', metrics=['accuracy'])"
   ]
  },
  {
   "cell_type": "code",
   "execution_count": 76,
   "metadata": {
    "colab": {
     "base_uri": "https://localhost:8080/"
    },
    "id": "MqYt9Xr4SZhA",
    "outputId": "44f7142c-31a7-4640-a84b-f2c661ff1326"
   },
   "outputs": [
    {
     "name": "stdout",
     "output_type": "stream",
     "text": [
      "Epoch 1/5\n",
      "782/782 [==============================] - 113s 142ms/step - loss: 0.5153 - accuracy: 0.7257 - val_loss: 0.3568 - val_accuracy: 0.8460\n",
      "Epoch 2/5\n",
      "782/782 [==============================] - 112s 143ms/step - loss: 0.2460 - accuracy: 0.9030 - val_loss: 0.3819 - val_accuracy: 0.8359\n",
      "Epoch 3/5\n",
      "782/782 [==============================] - 112s 144ms/step - loss: 0.1591 - accuracy: 0.9412 - val_loss: 0.4445 - val_accuracy: 0.8305\n",
      "Epoch 4/5\n",
      "782/782 [==============================] - 112s 143ms/step - loss: 0.0963 - accuracy: 0.9656 - val_loss: 0.4957 - val_accuracy: 0.8246\n",
      "Epoch 5/5\n",
      "782/782 [==============================] - 112s 143ms/step - loss: 0.0719 - accuracy: 0.9759 - val_loss: 0.6836 - val_accuracy: 0.8199\n"
     ]
    },
    {
     "data": {
      "text/plain": [
       "<tensorflow.python.keras.callbacks.History at 0x7fe018f08ad0>"
      ]
     },
     "execution_count": 76,
     "metadata": {
      "tags": []
     },
     "output_type": "execute_result"
    }
   ],
   "source": [
    "model.fit(X_train, y_train, \n",
    "          batch_size=batch_size, \n",
    "          epochs=5, \n",
    "          validation_data=(X_test, y_test))"
   ]
  },
  {
   "cell_type": "code",
   "execution_count": 77,
   "metadata": {
    "colab": {
     "base_uri": "https://localhost:8080/"
    },
    "id": "OHQfQmGhSeVc",
    "outputId": "ecc89e3a-e9e3-48bb-fdd8-de18af3a468d"
   },
   "outputs": [
    {
     "name": "stdout",
     "output_type": "stream",
     "text": [
      "782/782 [==============================] - 21s 27ms/step - loss: 0.0378 - accuracy: 0.9884\n",
      "782/782 [==============================] - 21s 27ms/step - loss: 0.6836 - accuracy: 0.8199\n",
      "Train score: 0.03779861703515053\n",
      "Train accuracy: 0.9883999824523926\n",
      "Test score: 0.6836262345314026\n",
      "Test accuracy: 0.8198800086975098\n"
     ]
    }
   ],
   "source": [
    "train_score, train_acc = model.evaluate(X_train, y_train, batch_size=batch_size)\n",
    "test_score, test_acc = model.evaluate(X_test, y_test, batch_size=batch_size)\n",
    "\n",
    "print('Train score:', train_score)\n",
    "print('Train accuracy:', train_acc)\n",
    "\n",
    "print('Test score:', test_score)\n",
    "print('Test accuracy:', test_acc)"
   ]
  },
  {
   "cell_type": "code",
   "execution_count": 78,
   "metadata": {
    "id": "53EP8aiGU6rh"
   },
   "outputs": [],
   "source": [
    "batch_size = 128\n",
    "nb_classes = 5\n",
    "nb_epoch = 5\n",
    "\n",
    "# input image dimensions\n",
    "img_rows, img_cols = 28, 28\n",
    "\n",
    "# number of convolutional filters to use\n",
    "nb_filters = 32\n",
    "\n",
    "# size of pooling area for max pooling\n",
    "pool_size = 2\n",
    "\n",
    "# convolution kernel size\n",
    "kernel_size = 3\n",
    "\n",
    "input_shape = (img_rows, img_cols, 1)"
   ]
  },
  {
   "cell_type": "code",
   "execution_count": 79,
   "metadata": {
    "id": "ggUnfSQmVowC"
   },
   "outputs": [],
   "source": [
    "# the data, shuffled and split between train and test sets\n",
    "(X_train, y_train), (X_test, y_test) = mnist.load_data()\n",
    "\n",
    "# create two datasets one with digits below 5 and one with 5 and above\n",
    "X_train_lt5 = X_train[y_train < 5]\n",
    "y_train_lt5 = y_train[y_train < 5]\n",
    "X_test_lt5 = X_test[y_test < 5]\n",
    "y_test_lt5 = y_test[y_test < 5]\n",
    "\n",
    "X_train_gte5 = X_train[y_train >= 5]\n",
    "y_train_gte5 = y_train[y_train >= 5] - 5  # make classes start at 0 for\n",
    "X_test_gte5 = X_test[y_test >= 5]         # np_utils.to_categorical\n",
    "y_test_gte5 = y_test[y_test >= 5] - 5\n"
   ]
  },
  {
   "cell_type": "code",
   "execution_count": 84,
   "metadata": {
    "id": "4iC0t-tcVrgl"
   },
   "outputs": [],
   "source": [
    "def train_model(model, train, test, nb_classes):\n",
    "    X_train = train[0].reshape((train[0].shape[0],) + input_shape)\n",
    "    X_test = test[0].reshape((test[0].shape[0],) + input_shape)\n",
    "    X_train = X_train.astype('float32')\n",
    "    X_test = X_test.astype('float32')\n",
    "    X_train /= 255\n",
    "    X_test /= 255\n",
    "    print('X_train shape:', X_train.shape)\n",
    "    print(X_train.shape[0], 'train samples')\n",
    "    print(X_test.shape[0], 'test samples')\n",
    "\n",
    "    # convert class vectors to binary class matrices\n",
    "    Y_train = np_utils.to_categorical(train[1], nb_classes)\n",
    "    Y_test = np_utils.to_categorical(test[1], nb_classes)\n",
    "\n",
    "    model.compile(loss='categorical_crossentropy',\n",
    "                  optimizer='adadelta',\n",
    "                  metrics=['accuracy'])\n",
    "\n",
    "    model.fit(X_train, Y_train,\n",
    "              batch_size=batch_size, epochs=nb_epoch,\n",
    "              verbose=1,\n",
    "              validation_data=(X_test, Y_test))\n",
    "    score = model.evaluate(X_test, Y_test, verbose=0)\n",
    "    print('Test score:', score[0])\n",
    "    print('Test accuracy:', score[1])\n",
    "\n"
   ]
  },
  {
   "cell_type": "code",
   "execution_count": 82,
   "metadata": {
    "id": "GjStjPOFVxEz"
   },
   "outputs": [],
   "source": [
    "# define two groups of layers: feature (convolutions) and classification (dense)\n",
    "feature_layers = [\n",
    "    Convolution2D(nb_filters, kernel_size,\n",
    "                  input_shape=input_shape),\n",
    "    Activation('relu'),\n",
    "    Convolution2D(nb_filters, kernel_size, kernel_size),\n",
    "    Activation('relu'),\n",
    "    MaxPooling2D(pool_size=(pool_size, pool_size)),\n",
    "    Dropout(0.25),\n",
    "    Flatten(),\n",
    "]\n",
    "classification_layers = [\n",
    "    Dense(128),\n",
    "    Activation('relu'),\n",
    "    Dropout(0.5),\n",
    "    Dense(nb_classes),\n",
    "    Activation('softmax')\n",
    "]\n",
    "\n",
    "# create complete model\n",
    "model = Sequential(feature_layers + classification_layers)"
   ]
  },
  {
   "cell_type": "code",
   "execution_count": 85,
   "metadata": {
    "colab": {
     "base_uri": "https://localhost:8080/"
    },
    "id": "ZlhfjqQyV1KT",
    "outputId": "ca7aa731-d348-46e1-b6ef-98a564f51185"
   },
   "outputs": [
    {
     "name": "stdout",
     "output_type": "stream",
     "text": [
      "X_train shape: (30596, 28, 28, 1)\n",
      "30596 train samples\n",
      "5139 test samples\n",
      "Epoch 1/5\n",
      "240/240 [==============================] - 11s 45ms/step - loss: 1.6229 - accuracy: 0.1824 - val_loss: 1.6057 - val_accuracy: 0.1590\n",
      "Epoch 2/5\n",
      "240/240 [==============================] - 11s 44ms/step - loss: 1.6147 - accuracy: 0.1960 - val_loss: 1.5982 - val_accuracy: 0.1895\n",
      "Epoch 3/5\n",
      "240/240 [==============================] - 11s 45ms/step - loss: 1.6081 - accuracy: 0.2101 - val_loss: 1.5907 - val_accuracy: 0.2537\n",
      "Epoch 4/5\n",
      "240/240 [==============================] - 11s 45ms/step - loss: 1.6004 - accuracy: 0.2284 - val_loss: 1.5834 - val_accuracy: 0.3291\n",
      "Epoch 5/5\n",
      "240/240 [==============================] - 11s 45ms/step - loss: 1.5925 - accuracy: 0.2431 - val_loss: 1.5760 - val_accuracy: 0.3921\n",
      "Test score: 1.5760043859481812\n",
      "Test accuracy: 0.39209961891174316\n"
     ]
    }
   ],
   "source": [
    "# train model for 5-digit classification [0..4]\n",
    "train_model(model, (X_train_lt5, y_train_lt5), (X_test_lt5, y_test_lt5), nb_classes)"
   ]
  },
  {
   "cell_type": "code",
   "execution_count": 86,
   "metadata": {
    "colab": {
     "base_uri": "https://localhost:8080/"
    },
    "id": "Xgkgxt-4WUjR",
    "outputId": "2e438960-86f8-487b-f031-4284cb8f7dc4"
   },
   "outputs": [
    {
     "name": "stdout",
     "output_type": "stream",
     "text": [
      "X_train shape: (29404, 28, 28, 1)\n",
      "29404 train samples\n",
      "4861 test samples\n",
      "Epoch 1/5\n",
      "230/230 [==============================] - 5s 19ms/step - loss: 1.5984 - accuracy: 0.2381 - val_loss: 1.5873 - val_accuracy: 0.3421\n",
      "Epoch 2/5\n",
      "230/230 [==============================] - 4s 18ms/step - loss: 1.5944 - accuracy: 0.2460 - val_loss: 1.5838 - val_accuracy: 0.3652\n",
      "Epoch 3/5\n",
      "230/230 [==============================] - 4s 18ms/step - loss: 1.5914 - accuracy: 0.2545 - val_loss: 1.5801 - val_accuracy: 0.3865\n",
      "Epoch 4/5\n",
      "230/230 [==============================] - 4s 18ms/step - loss: 1.5875 - accuracy: 0.2637 - val_loss: 1.5766 - val_accuracy: 0.4092\n",
      "Epoch 5/5\n",
      "230/230 [==============================] - 4s 18ms/step - loss: 1.5875 - accuracy: 0.2662 - val_loss: 1.5730 - val_accuracy: 0.4293\n",
      "Test score: 1.5730215311050415\n",
      "Test accuracy: 0.4293355345726013\n"
     ]
    }
   ],
   "source": [
    "# freeze feature layers and rebuild model\n",
    "for layer in feature_layers:\n",
    "    layer.trainable = False\n",
    "\n",
    "# transfer: train dense layers for new classification task [5..9]\n",
    "train_model(model, (X_train_gte5, y_train_gte5), (X_test_gte5, y_test_gte5), nb_classes)"
   ]
  }
 ],
 "metadata": {
  "colab": {
   "collapsed_sections": [
    "yQrFGxIpGtuj",
    "44X1TxIkGtum",
    "F96GbixGGtup",
    "hMxqad-AGtur",
    "-xywYEjwGtus",
    "5bCkfN2SGtut",
    "q4po5xgxGtuw",
    "XCVkbqhHGtuy",
    "rzzmeJXoGtu0",
    "32Lh7y9HGtu1",
    "3Q2nK6XKGtu2"
   ],
   "include_colab_link": true,
   "name": "Assignment6_UtsavDarlami.ipynb",
   "provenance": []
  },
  "kernelspec": {
   "display_name": "Python 3",
   "language": "python",
   "name": "python3"
  },
  "language_info": {
   "codemirror_mode": {
    "name": "ipython",
    "version": 3
   },
   "file_extension": ".py",
   "mimetype": "text/x-python",
   "name": "python",
   "nbconvert_exporter": "python",
   "pygments_lexer": "ipython3",
   "version": "3.7.1"
  }
 },
 "nbformat": 4,
 "nbformat_minor": 4
}
