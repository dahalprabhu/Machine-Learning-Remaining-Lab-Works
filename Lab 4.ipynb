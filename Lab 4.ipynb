{
 "cells": [
  {
   "cell_type": "markdown",
   "metadata": {
    "id": "r_ArBd164U88"
   },
   "source": [
    "# Chapter 4 Topic Modeling "
   ]
  },
  {
   "cell_type": "code",
   "execution_count": 2,
   "metadata": {
    "id": "Q0aruwJf6REM"
   },
   "outputs": [],
   "source": [
    "import matplotlib.pyplot as plt\n",
    "import numpy as np"
   ]
  },
  {
   "cell_type": "markdown",
   "metadata": {
    "id": "FGpoLJq64U9F"
   },
   "source": [
    "## Building a topic model "
   ]
  },
  {
   "cell_type": "code",
   "execution_count": 2,
   "metadata": {
    "colab": {
     "base_uri": "https://localhost:8080/"
    },
    "id": "qzhgnt1a4U9G",
    "outputId": "7e4f4c45-6612-405c-f603-a0c2900210cb"
   },
   "outputs": [
    {
     "name": "stdout",
     "output_type": "stream",
     "text": [
      "--2021-04-09 04:29:44--  http://www.cs.columbia.edu/~blei/lda-c/ap.tgz\n",
      "Resolving www.cs.columbia.edu (www.cs.columbia.edu)... 128.59.11.206\n",
      "Connecting to www.cs.columbia.edu (www.cs.columbia.edu)|128.59.11.206|:80... connected.\n",
      "HTTP request sent, awaiting response... 200 OK\n",
      "Length: 2925653 (2.8M) [application/x-gzip]\n",
      "Saving to: ‘ap.tgz’\n",
      "\n",
      "ap.tgz              100%[===================>]   2.79M  2.21MB/s    in 1.3s    \n",
      "\n",
      "2021-04-09 04:29:46 (2.21 MB/s) - ‘ap.tgz’ saved [2925653/2925653]\n",
      "\n"
     ]
    }
   ],
   "source": [
    "!wget http://www.cs.columbia.edu/~blei/lda-c/ap.tgz\n",
    "!tar xzf ap.tgz"
   ]
  },
  {
   "cell_type": "code",
   "execution_count": 5,
   "metadata": {
    "id": "fXil6iLV4U9H"
   },
   "outputs": [],
   "source": [
    "from gensim import corpora, models"
   ]
  },
  {
   "cell_type": "code",
   "execution_count": 6,
   "metadata": {
    "id": "lC2ee0G54vh9"
   },
   "outputs": [],
   "source": [
    "corpus = corpora.BleiCorpus('./ap/ap.dat',\n",
    "                            './ap/vocab.txt')"
   ]
  },
  {
   "cell_type": "code",
   "execution_count": 80,
   "metadata": {
    "colab": {
     "base_uri": "https://localhost:8080/"
    },
    "id": "_G1QdNtz41RM",
    "outputId": "ca4ef5fe-3369-4698-bf29-32381d249395"
   },
   "outputs": [
    {
     "name": "stderr",
     "output_type": "stream",
     "text": [
      "/usr/local/lib/python3.7/dist-packages/gensim/models/ldamodel.py:1023: RuntimeWarning: divide by zero encountered in log\n",
      "  diff = np.log(self.expElogbeta)\n"
     ]
    }
   ],
   "source": [
    "model = models.ldamodel.LdaModel(corpus, \n",
    "                                 num_topics=100,\n",
    "                                 id2word=corpus.id2word)"
   ]
  },
  {
   "cell_type": "code",
   "execution_count": 12,
   "metadata": {
    "colab": {
     "base_uri": "https://localhost:8080/"
    },
    "id": "Isyv5-Jz5hLR",
    "outputId": "664ffa9d-ae75-42df-aa8c-39e206b30d57"
   },
   "outputs": [
    {
     "data": {
      "text/plain": [
       "186"
      ]
     },
     "execution_count": 12,
     "metadata": {
      "tags": []
     },
     "output_type": "execute_result"
    }
   ],
   "source": [
    "doc = corpus.docbyoffset(0)\n",
    "len(doc)"
   ]
  },
  {
   "cell_type": "code",
   "execution_count": 13,
   "metadata": {
    "colab": {
     "base_uri": "https://localhost:8080/"
    },
    "id": "mBKEx1qW5pBt",
    "outputId": "59d3cb85-eb22-422d-adb3-83a6c985304e"
   },
   "outputs": [
    {
     "name": "stdout",
     "output_type": "stream",
     "text": [
      "11\n",
      "[(2, 0.07874746), (6, 0.04797098), (12, 0.01739159), (13, 0.03402003), (15, 0.013346842), (16, 0.061924398), (40, 0.27927586), (48, 0.06481411), (53, 0.04821961), (55, 0.03913494), (63, 0.26857436)]\n"
     ]
    }
   ],
   "source": [
    "topics = model[doc]\n",
    "print(len(topics))\n",
    "print(topics)"
   ]
  },
  {
   "cell_type": "code",
   "execution_count": 17,
   "metadata": {
    "id": "0I-ePN8p5sd8"
   },
   "outputs": [],
   "source": [
    "num_topics_used = [len(model[doc]) for doc in corpus]"
   ]
  },
  {
   "cell_type": "code",
   "execution_count": 131,
   "metadata": {
    "colab": {
     "base_uri": "https://localhost:8080/"
    },
    "id": "PEsrv9XNMpv3",
    "outputId": "dd9721f7-3bb5-43bc-fc56-d9c53955d21a"
   },
   "outputs": [
    {
     "data": {
      "text/plain": [
       "2246"
      ]
     },
     "execution_count": 131,
     "metadata": {
      "tags": []
     },
     "output_type": "execute_result"
    }
   ],
   "source": [
    "len(num_topics_used)"
   ]
  },
  {
   "cell_type": "code",
   "execution_count": 42,
   "metadata": {
    "colab": {
     "base_uri": "https://localhost:8080/",
     "height": 279
    },
    "id": "hCADSk1Q6n0v",
    "outputId": "1a3c79ab-fad4-4abf-ad3f-59af3e9cbb72"
   },
   "outputs": [
    {
     "data": {
      "image/png": "[encoded data removed]",
      "text/plain": [
       "<Figure size 432x288 with 1 Axes>"
      ]
     },
     "metadata": {
      "needs_background": "light",
      "tags": []
     },
     "output_type": "display_data"
    }
   ],
   "source": [
    "plt.hist(num_topics_used, np.arange(45))\n",
    "plt.ylabel('Nr of documents')\n",
    "plt.xlabel('Nr of topics')\n",
    "plt.show()"
   ]
  },
  {
   "cell_type": "code",
   "execution_count": 44,
   "metadata": {
    "colab": {
     "base_uri": "https://localhost:8080/"
    },
    "id": "NKVw4WD29I6P",
    "outputId": "4e79a738-a99f-4c81-d627-b98a620e4b3c"
   },
   "outputs": [
    {
     "name": "stderr",
     "output_type": "stream",
     "text": [
      "/usr/local/lib/python3.7/dist-packages/gensim/models/ldamodel.py:1023: RuntimeWarning: divide by zero encountered in log\n",
      "  diff = np.log(self.expElogbeta)\n"
     ]
    }
   ],
   "source": [
    "model2 = models.ldamodel.LdaModel(corpus,\n",
    "                                 num_topics=100,\n",
    "                                 id2word=corpus.id2word,\n",
    "                                 alpha=1)\n"
   ]
  },
  {
   "cell_type": "code",
   "execution_count": 46,
   "metadata": {
    "id": "yBB_Hmo59iLP"
   },
   "outputs": [],
   "source": [
    "num_topics_used2 = [len(model2[doc]) for doc in corpus]"
   ]
  },
  {
   "cell_type": "code",
   "execution_count": 117,
   "metadata": {
    "colab": {
     "base_uri": "https://localhost:8080/",
     "height": 442
    },
    "id": "u8xlRbS69S2O",
    "outputId": "84320c17-2b39-45e7-ddd9-01b015bbe9de"
   },
   "outputs": [
    {
     "data": {
      "image/png": "[encoded data removed]",
      "text/plain": [
       "<Figure size 720x504 with 1 Axes>"
      ]
     },
     "metadata": {
      "needs_background": "light",
      "tags": []
     },
     "output_type": "display_data"
    }
   ],
   "source": [
    "fig, ax = plt.subplots(figsize=(10,7))\n",
    "ax.hist([num_topics_used, num_topics_used2], np.arange(45))\n",
    "\n",
    "ax.text(12, 190, 'default alpha')\n",
    "ax.text(25, 140, 'alpha=1.0')\n",
    "plt.ylabel('Nr of documents')\n",
    "plt.xlabel('Nr of topics')\n",
    "plt.show()"
   ]
  },
  {
   "cell_type": "markdown",
   "metadata": {
    "id": "2K02PcZMBe_b"
   },
   "source": [
    "## Comparing documents by topics"
   ]
  },
  {
   "cell_type": "code",
   "execution_count": 87,
   "metadata": {
    "id": "RUyQ0LixBnfa"
   },
   "outputs": [],
   "source": [
    "from gensim import matutils"
   ]
  },
  {
   "cell_type": "code",
   "execution_count": 96,
   "metadata": {
    "colab": {
     "base_uri": "https://localhost:8080/"
    },
    "id": "Q0NC40UsBnoD",
    "outputId": "29867495-e023-474f-fce3-39645f96cd64"
   },
   "outputs": [
    {
     "name": "stderr",
     "output_type": "stream",
     "text": [
      "/usr/local/lib/python3.7/dist-packages/gensim/matutils.py:502: FutureWarning: arrays to stack must be passed as a \"sequence\" type such as list or tuple. Support for non-sequence iterables such as generators is deprecated as of NumPy 1.16 and will raise an error in the future.\n",
      "  result = np.column_stack(sparse2full(doc, num_terms) for doc in corpus)\n"
     ]
    },
    {
     "data": {
      "text/plain": [
       "(100, 2246)"
      ]
     },
     "execution_count": 96,
     "metadata": {
      "tags": []
     },
     "output_type": "execute_result"
    }
   ],
   "source": [
    "topics = matutils.corpus2dense(model[corpus],\n",
    "                               num_terms=model.num_topics)\n",
    "topics.shape"
   ]
  },
  {
   "cell_type": "code",
   "execution_count": 93,
   "metadata": {
    "colab": {
     "base_uri": "https://localhost:8080/"
    },
    "id": "O0q96G_jF7Ok",
    "outputId": "27441086-8228-44c9-ad7d-ad2542c002a2"
   },
   "outputs": [
    {
     "data": {
      "text/plain": [
       "2246"
      ]
     },
     "execution_count": 93,
     "metadata": {
      "tags": []
     },
     "output_type": "execute_result"
    }
   ],
   "source": [
    "len(corpus)"
   ]
  },
  {
   "cell_type": "code",
   "execution_count": 94,
   "metadata": {
    "id": "uLvoFKdoBnwq"
   },
   "outputs": [],
   "source": [
    "from scipy.spatial import distance"
   ]
  },
  {
   "cell_type": "code",
   "execution_count": 95,
   "metadata": {
    "colab": {
     "base_uri": "https://localhost:8080/"
    },
    "id": "MMkggXtRFwWW",
    "outputId": "02fa8791-51c5-459f-c829-c0c71a6f674b"
   },
   "outputs": [
    {
     "data": {
      "text/plain": [
       "(100, 100)"
      ]
     },
     "execution_count": 95,
     "metadata": {
      "tags": []
     },
     "output_type": "execute_result"
    }
   ],
   "source": [
    "pairwise = distance.squareform(distance.pdist(topics))\n",
    "pairwise.shape"
   ]
  },
  {
   "cell_type": "code",
   "execution_count": 97,
   "metadata": {
    "id": "5vYag4zLGiOe"
   },
   "outputs": [],
   "source": [
    "largest = pairwise.max()\n",
    "for ti in range(len(topics)):\n",
    "    pairwise[ti,ti] = largest+1"
   ]
  },
  {
   "cell_type": "code",
   "execution_count": 98,
   "metadata": {
    "id": "8oQdJRlpGnZ-"
   },
   "outputs": [],
   "source": [
    "def closest_to(doc_id):\n",
    "    return pairwise[doc_id].argmin()"
   ]
  },
  {
   "cell_type": "code",
   "execution_count": 113,
   "metadata": {
    "colab": {
     "base_uri": "https://localhost:8080/"
    },
    "id": "mVFWE4SGIyl2",
    "outputId": "24ca1075-b1f5-40c8-a224-376315a8203e"
   },
   "outputs": [
    {
     "data": {
      "text/plain": [
       "94"
      ]
     },
     "execution_count": 113,
     "metadata": {
      "tags": []
     },
     "output_type": "execute_result"
    }
   ],
   "source": [
    "closest_to(1)"
   ]
  },
  {
   "cell_type": "markdown",
   "metadata": {
    "id": "t2dJG9QF4U9H"
   },
   "source": [
    "## Modeling the whole of Wikipedia"
   ]
  },
  {
   "cell_type": "code",
   "execution_count": 147,
   "metadata": {
    "colab": {
     "base_uri": "https://localhost:8080/"
    },
    "id": "-F-UEg604U9I",
    "outputId": "1933a12b-2758-4ed8-9821-33fa5b50ba9a"
   },
   "outputs": [
    {
     "name": "stdout",
     "output_type": "stream",
     "text": [
      "--2021-04-09 06:06:26--  http://dumps.wikimedia.org/enwiki/latest/enwiki-latest-pages-articles.xml.bz2\n",
      "Resolving dumps.wikimedia.org (dumps.wikimedia.org)... 208.80.154.7, 2620:0:861:1:208:80:154:7\n",
      "Connecting to dumps.wikimedia.org (dumps.wikimedia.org)|208.80.154.7|:80... connected.\n",
      "HTTP request sent, awaiting response... 301 Moved Permanently\n",
      "Location: https://dumps.wikimedia.org/enwiki/latest/enwiki-latest-pages-articles.xml.bz2 [following]\n",
      "--2021-04-09 06:06:27--  https://dumps.wikimedia.org/enwiki/latest/enwiki-latest-pages-articles.xml.bz2\n",
      "Connecting to dumps.wikimedia.org (dumps.wikimedia.org)|208.80.154.7|:443... connected.\n",
      "HTTP request sent, awaiting response... 200 OK\n",
      "Length: 18416049294 (17G) [application/octet-stream]\n",
      "Saving to: ‘enwiki-latest-pages-articles.xml.bz2’\n",
      "\n",
      "enwiki-latest-pages 100%[===================>]  17.15G  4.75MB/s    in 64m 30s \n",
      "\n",
      "2021-04-09 07:10:58 (4.54 MB/s) - ‘enwiki-latest-pages-articles.xml.bz2’ saved [18416049294/18416049294]\n",
      "\n"
     ]
    }
   ],
   "source": [
    "#!/bin/sh\n",
    "!wget http://dumps.wikimedia.org/enwiki/latest/enwiki-latest-pages-articles.xml.bz3"
   ]
  },
  {
   "cell_type": "code",
   "execution_count": 156,
   "metadata": {
    "colab": {
     "base_uri": "https://localhost:8080/"
    },
    "id": "zF-makMfe8El",
    "outputId": "0f82dd4b-f27a-48ba-b678-ad863104871c"
   },
   "outputs": [
    {
     "name": "stdout",
     "output_type": "stream",
     "text": [
      "ap  ap.tgz  enwiki-latest-pages-articles.xml.bz2  sample_data  wiki_en_output\n"
     ]
    }
   ],
   "source": [
    "!ls /content/"
   ]
  },
  {
   "cell_type": "code",
   "execution_count": 161,
   "metadata": {
    "id": "284Wv6ig4U9J"
   },
   "outputs": [],
   "source": [
    "!python -m gensim.scripts.make_wiki enwiki-latest-pages-articles.xml.bz2 /content/wiki_en_output"
   ]
  },
  {
   "cell_type": "code",
   "execution_count": 158,
   "metadata": {
    "id": "7QZrE8884U9K"
   },
   "outputs": [],
   "source": [
    "import logging, gensim"
   ]
  },
  {
   "cell_type": "code",
   "execution_count": 159,
   "metadata": {
    "id": "VkwnTQNQL1HY"
   },
   "outputs": [],
   "source": [
    "logging.basicConfig(format='%(asctime)s : %(levelname)s : %(message)s',\n",
    "                    level=logging.INFO)\n"
   ]
  },
  {
   "cell_type": "code",
   "execution_count": 163,
   "metadata": {
    "id": "ob4A7Vt-Rd5k"
   },
   "outputs": [],
   "source": [
    "id2word = gensim.corpora.Dictionary.load_from_text('wiki_en_output_wordids.txt')\n",
    "mm = gensim.corpora.MmCorpus('wiki_en_output_tfidf.mm')"
   ]
  },
  {
   "cell_type": "code",
   "execution_count": 164,
   "metadata": {
    "id": "VoQAAJvSRkES"
   },
   "outputs": [],
   "source": [
    "model = gensim.models.ldamodel.LdaModel(corpus=mm,\n",
    "                                        id2word=id2word,\n",
    "                                        num_topics=100,\n",
    "                                        update_every=1,\n",
    "                                        chunksize=10000,\n",
    "                                        passes=1)\n"
   ]
  },
  {
   "cell_type": "code",
   "execution_count": 166,
   "metadata": {
    "colab": {
     "base_uri": "https://localhost:8080/"
    },
    "id": "6ITDeZX1RkM8",
    "outputId": "5bfb93c7-dbbc-4d65-bd0a-80f1e37a6c74"
   },
   "outputs": [
    {
     "name": "stderr",
     "output_type": "stream",
     "text": [
      "2021-04-09 10:41:00,860 : INFO : saving LdaState object under wiki_lda.pkl.state, separately None\n",
      "2021-04-09 10:41:00,925 : INFO : saved wiki_lda.pkl.state\n",
      "2021-04-09 10:41:00,942 : INFO : saving LdaModel object under wiki_lda.pkl, separately ['expElogbeta', 'sstats']\n",
      "2021-04-09 10:41:00,944 : INFO : storing np array 'expElogbeta' to wiki_lda.pkl.expElogbeta.npy\n",
      "2021-04-09 10:41:00,964 : INFO : not storing attribute id2word\n",
      "2021-04-09 10:41:00,966 : INFO : not storing attribute state\n",
      "2021-04-09 10:41:00,969 : INFO : not storing attribute dispatcher\n",
      "2021-04-09 10:41:00,986 : INFO : saved wiki_lda.pkl\n"
     ]
    }
   ],
   "source": [
    "model.save('wiki_lda.pkl')"
   ]
  },
  {
   "cell_type": "code",
   "execution_count": 167,
   "metadata": {
    "colab": {
     "base_uri": "https://localhost:8080/"
    },
    "id": "IwH-ZJ-HRkUv",
    "outputId": "b6098e70-9ff6-4ea1-e7c8-5b2884cd4234"
   },
   "outputs": [
    {
     "name": "stderr",
     "output_type": "stream",
     "text": [
      "2021-04-09 10:41:19,306 : INFO : loading LdaModel object from wiki_lda.pkl\n",
      "2021-04-09 10:41:19,328 : INFO : loading expElogbeta from wiki_lda.pkl.expElogbeta.npy with mmap=None\n",
      "2021-04-09 10:41:19,336 : INFO : setting ignored attribute id2word to None\n",
      "2021-04-09 10:41:19,338 : INFO : setting ignored attribute state to None\n",
      "2021-04-09 10:41:19,341 : INFO : setting ignored attribute dispatcher to None\n",
      "2021-04-09 10:41:19,344 : INFO : loaded wiki_lda.pkl\n",
      "2021-04-09 10:41:19,347 : INFO : loading LdaState object from wiki_lda.pkl.state\n",
      "2021-04-09 10:41:19,378 : INFO : loaded wiki_lda.pkl.state\n"
     ]
    }
   ],
   "source": [
    "model = gensim.models.ldamodel.LdaModel.load('wiki_lda.pkl')"
   ]
  },
  {
   "cell_type": "code",
   "execution_count": 170,
   "metadata": {
    "id": "FjOROOICSzKx"
   },
   "outputs": [],
   "source": [
    "topics = matutils.corpus2dense(model[doc],\n",
    "                               num_terms=model.num_topics)"
   ]
  },
  {
   "cell_type": "code",
   "execution_count": 171,
   "metadata": {
    "colab": {
     "base_uri": "https://localhost:8080/"
    },
    "id": "RgIPiATGR0Tq",
    "outputId": "6c9a4d50-568a-44e4-faf2-62570ed8a423"
   },
   "outputs": [
    {
     "name": "stdout",
     "output_type": "stream",
     "text": [
      "9.255565449688335\n"
     ]
    }
   ],
   "source": [
    "lens = (topics > 0).sum(axis=0)\n",
    "print(np.mean(lens))"
   ]
  },
  {
   "cell_type": "code",
   "execution_count": 172,
   "metadata": {
    "colab": {
     "base_uri": "https://localhost:8080/"
    },
    "id": "Fj7oA25DR3L5",
    "outputId": "ccc6ee78-01f8-4404-a226-3d6c6470f94d"
   },
   "outputs": [
    {
     "name": "stdout",
     "output_type": "stream",
     "text": [
      "0.6264470169189671\n"
     ]
    }
   ],
   "source": [
    "print(np.mean(lens <= 10))"
   ]
  },
  {
   "cell_type": "code",
   "execution_count": 177,
   "metadata": {
    "id": "3rh2vmrtR63n"
   },
   "outputs": [],
   "source": [
    "weights = topics.sum(axis=0)\n",
    "words = model.show_topic(weights.argmax(), 64)"
   ]
  },
  {
   "cell_type": "code",
   "execution_count": 182,
   "metadata": {
    "id": "XE4LaI36R7BP"
   },
   "outputs": [],
   "source": [
    "words = model.show_topic(weights.argmin(), 64)\n",
    "# weights.argmin()"
   ]
  }
 ],
 "metadata": {
  "colab": {
   "collapsed_sections": [],
   "include_colab_link": true,
   "name": "chapter4_UtsavDarlami_colab.ipynb",
   "provenance": []
  },
  "kernelspec": {
   "display_name": "Python 3",
   "language": "python",
   "name": "python3"
  },
  "language_info": {
   "codemirror_mode": {
    "name": "ipython",
    "version": 3
   },
   "file_extension": ".py",
   "mimetype": "text/x-python",
   "name": "python",
   "nbconvert_exporter": "python",
   "pygments_lexer": "ipython3",
   "version": "3.8.5"
  }
 },
 "nbformat": 4,
 "nbformat_minor": 4
}
